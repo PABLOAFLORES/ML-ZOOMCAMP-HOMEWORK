{
 "cells": [
  {
   "cell_type": "code",
   "execution_count": 43,
   "id": "1359a99b",
   "metadata": {},
   "outputs": [],
   "source": [
    "import numpy as np"
   ]
  },
  {
   "cell_type": "code",
   "execution_count": 37,
   "id": "9e46c918",
   "metadata": {},
   "outputs": [],
   "source": [
    "#VECTOR OPERATION"
   ]
  },
  {
   "cell_type": "code",
   "execution_count": 38,
   "id": "9742ef6e",
   "metadata": {},
   "outputs": [
    {
     "data": {
      "text/plain": [
       "array([3, 4, 5, 8])"
      ]
     },
     "execution_count": 38,
     "metadata": {},
     "output_type": "execute_result"
    }
   ],
   "source": [
    "u = np.array ([2,4,5,6])\n",
    "v = np.array ([1,0,0,2])\n",
    "u + v"
   ]
  },
  {
   "cell_type": "code",
   "execution_count": 39,
   "id": "87a5b129",
   "metadata": {},
   "outputs": [
    {
     "data": {
      "text/plain": [
       "array([ 2,  0,  0, 12])"
      ]
     },
     "execution_count": 39,
     "metadata": {},
     "output_type": "execute_result"
    }
   ],
   "source": [
    "u * v"
   ]
  },
  {
   "cell_type": "code",
   "execution_count": 40,
   "id": "40058c6e",
   "metadata": {},
   "outputs": [],
   "source": [
    "#PRODUCTO ESCALAR (DOT PRODUCT)"
   ]
  },
  {
   "cell_type": "code",
   "execution_count": 41,
   "id": "d5a2844d",
   "metadata": {},
   "outputs": [
    {
     "data": {
      "text/plain": [
       "np.float64(14.0)"
      ]
     },
     "execution_count": 41,
     "metadata": {},
     "output_type": "execute_result"
    }
   ],
   "source": [
    "def multiplicacion_vector_vector(u,v):\n",
    "    assert u.shape[0] == v.shape[0]\n",
    "\n",
    "    n = u.shape[0]\n",
    "\n",
    "    result = 0.0\n",
    "\n",
    "    for i in range(n):\n",
    "        result = result + u[i] * v[i]\n",
    "\n",
    "    return result\n",
    "multiplicacion_vector_vector (u,v)\n",
    "\n",
    "\n"
   ]
  },
  {
   "cell_type": "code",
   "execution_count": null,
   "id": "ea66a79a",
   "metadata": {},
   "outputs": [
    {
     "data": {
      "text/plain": [
       "np.int64(14)"
      ]
     },
     "execution_count": 42,
     "metadata": {},
     "output_type": "execute_result"
    }
   ],
   "source": [
    "u.dot(v) # Como calcular con NP sin escribir todo el codigo"
   ]
  },
  {
   "cell_type": "code",
   "execution_count": 44,
   "id": "e2a23025",
   "metadata": {},
   "outputs": [],
   "source": [
    "#MULTIPLIACION MATRIZ - VECTOR"
   ]
  },
  {
   "cell_type": "code",
   "execution_count": 84,
   "id": "30068084",
   "metadata": {},
   "outputs": [
    {
     "data": {
      "text/plain": [
       "3"
      ]
     },
     "execution_count": 84,
     "metadata": {},
     "output_type": "execute_result"
    }
   ],
   "source": [
    "U = np.array([\n",
    "              [2,4,5,6],\n",
    "              [1,2,1,2],\n",
    "              [3,1,2,1]\n",
    "              ])\n",
    "v = np.array([1,0.5,2,1])\n",
    "U.shape[0]"
   ]
  },
  {
   "cell_type": "code",
   "execution_count": 80,
   "id": "116188d0",
   "metadata": {},
   "outputs": [
    {
     "data": {
      "text/plain": [
       "array([20. ,  6. ,  8.5])"
      ]
     },
     "execution_count": 80,
     "metadata": {},
     "output_type": "execute_result"
    }
   ],
   "source": [
    "def Multiplicacion_Matrix_Vector(U,v):\n",
    "    assert U.shape[1] == v.shape[0]\n",
    "\n",
    "    num_rows = U.shape[0]\n",
    "\n",
    "    result = np.zeros(num_rows)\n",
    "\n",
    "    for i in range(num_rows):\n",
    "        result[i] = multiplicacion_vector_vector (U[i],v)\n",
    "\n",
    "    return result\n",
    "\n",
    "Multiplicacion_Matrix_Vector(U,v)\n",
    "\n"
   ]
  },
  {
   "cell_type": "code",
   "execution_count": null,
   "id": "739146ff",
   "metadata": {},
   "outputs": [
    {
     "data": {
      "text/plain": [
       "array([20. ,  6. ,  8.5])"
      ]
     },
     "execution_count": 81,
     "metadata": {},
     "output_type": "execute_result"
    }
   ],
   "source": [
    "U.dot(v) # Como calcular con NP sin escribir todo el codigo"
   ]
  },
  {
   "cell_type": "code",
   "execution_count": null,
   "id": "aaee6df7",
   "metadata": {},
   "outputs": [],
   "source": [
    "# MULTIPLICACION MATRIZ - MATRIZ"
   ]
  },
  {
   "cell_type": "code",
   "execution_count": 93,
   "id": "b0294c79",
   "metadata": {},
   "outputs": [],
   "source": [
    "U = np.array([\n",
    "              [2,4,5,6],\n",
    "              [1,2,1,2],\n",
    "              [3,1,2,1]\n",
    "              ])\n",
    "V = np.array([\n",
    "              [2,1,2],\n",
    "              [0,0.5,1],\n",
    "              [0,2,1],\n",
    "              [2,1,0]\n",
    "              ])\n"
   ]
  },
  {
   "cell_type": "code",
   "execution_count": 102,
   "id": "007a7148",
   "metadata": {},
   "outputs": [
    {
     "data": {
      "text/plain": [
       "array([[16. , 20. , 13. ],\n",
       "       [ 6. ,  6. ,  5. ],\n",
       "       [ 8. ,  8.5,  9. ]])"
      ]
     },
     "execution_count": 102,
     "metadata": {},
     "output_type": "execute_result"
    }
   ],
   "source": [
    "def Multiplicacion_matrix_matrix(U, V):\n",
    "    assert U.shape[1] == V.shape[0]\n",
    "    \n",
    "    num_rows = U.shape[0]\n",
    "    num_cols = V.shape[1]\n",
    "    \n",
    "    result = np.zeros((num_rows, num_cols))\n",
    "    \n",
    "    for i in range(num_cols):\n",
    "        vi = V[:, i]\n",
    "        Uvi = Multiplicacion_Matrix_Vector(U, vi)\n",
    "        result[:, i] = Uvi\n",
    "    \n",
    "    return result\n",
    "\n",
    "Multiplicacion_matrix_matrix(U, V)"
   ]
  },
  {
   "cell_type": "code",
   "execution_count": null,
   "id": "81332b80",
   "metadata": {},
   "outputs": [
    {
     "data": {
      "text/plain": [
       "array([[16. , 20. , 13. ],\n",
       "       [ 6. ,  6. ,  5. ],\n",
       "       [ 8. ,  8.5,  9. ]])"
      ]
     },
     "execution_count": 103,
     "metadata": {},
     "output_type": "execute_result"
    }
   ],
   "source": [
    "U.dot(V) #Como calcular con NP sin escribir todo el codigo"
   ]
  },
  {
   "cell_type": "code",
   "execution_count": 104,
   "id": "11c9a5e7",
   "metadata": {},
   "outputs": [],
   "source": [
    "# MATRIX IDENTIDAD"
   ]
  },
  {
   "cell_type": "code",
   "execution_count": 113,
   "id": "bd8561dd",
   "metadata": {},
   "outputs": [
    {
     "data": {
      "text/plain": [
       "array([[1., 0., 0.],\n",
       "       [0., 1., 0.],\n",
       "       [0., 0., 1.]])"
      ]
     },
     "execution_count": 113,
     "metadata": {},
     "output_type": "execute_result"
    }
   ],
   "source": [
    "I = np.eye(3)\n",
    "I"
   ]
  },
  {
   "cell_type": "code",
   "execution_count": 114,
   "id": "2b34b720",
   "metadata": {},
   "outputs": [
    {
     "data": {
      "text/plain": [
       "array([[2. , 1. , 2. ],\n",
       "       [0. , 0.5, 1. ],\n",
       "       [0. , 2. , 1. ],\n",
       "       [2. , 1. , 0. ]])"
      ]
     },
     "execution_count": 114,
     "metadata": {},
     "output_type": "execute_result"
    }
   ],
   "source": [
    "V.dot(I)"
   ]
  },
  {
   "cell_type": "code",
   "execution_count": 116,
   "id": "0d76e2b4",
   "metadata": {},
   "outputs": [
    {
     "data": {
      "text/plain": [
       "array([[2. , 1. , 2. ],\n",
       "       [0. , 0.5, 1. ],\n",
       "       [0. , 2. , 1. ]])"
      ]
     },
     "execution_count": 116,
     "metadata": {},
     "output_type": "execute_result"
    }
   ],
   "source": [
    "# INVERSA\n",
    "Vs = np.array([[2. , 1. , 2. ],\n",
    "                [0. , 0.5, 1. ],\n",
    "                [0. , 2. , 1. ]])\n",
    "Vs"
   ]
  },
  {
   "cell_type": "code",
   "execution_count": 117,
   "id": "d89dcd8b",
   "metadata": {},
   "outputs": [
    {
     "data": {
      "text/plain": [
       "array([[ 0.5       , -1.        ,  0.        ],\n",
       "       [ 0.        , -0.66666667,  0.66666667],\n",
       "       [ 0.        ,  1.33333333, -0.33333333]])"
      ]
     },
     "execution_count": 117,
     "metadata": {},
     "output_type": "execute_result"
    }
   ],
   "source": [
    "Vs_inv = np.linalg.inv(Vs)\n",
    "Vs_inv"
   ]
  },
  {
   "cell_type": "code",
   "execution_count": 119,
   "id": "c204e623",
   "metadata": {},
   "outputs": [
    {
     "data": {
      "text/plain": [
       "array([[1., 0., 0.],\n",
       "       [0., 1., 0.],\n",
       "       [0., 0., 1.]])"
      ]
     },
     "execution_count": 119,
     "metadata": {},
     "output_type": "execute_result"
    }
   ],
   "source": [
    "Vs.dot(Vs_inv)"
   ]
  },
  {
   "cell_type": "code",
   "execution_count": null,
   "id": "b94437a3",
   "metadata": {},
   "outputs": [],
   "source": []
  }
 ],
 "metadata": {
  "kernelspec": {
   "display_name": "Python 3",
   "language": "python",
   "name": "python3"
  },
  "language_info": {
   "codemirror_mode": {
    "name": "ipython",
    "version": 3
   },
   "file_extension": ".py",
   "mimetype": "text/x-python",
   "name": "python",
   "nbconvert_exporter": "python",
   "pygments_lexer": "ipython3",
   "version": "3.13.1"
  }
 },
 "nbformat": 4,
 "nbformat_minor": 5
}

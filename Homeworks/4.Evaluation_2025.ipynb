{
 "cells": [
  {
   "cell_type": "code",
   "execution_count": 273,
   "id": "c019975f",
   "metadata": {},
   "outputs": [],
   "source": [
    "import numpy as np\n",
    "import pandas as pd\n",
    "from sklearn.feature_extraction import DictVectorizer\n",
    "from sklearn.linear_model import LogisticRegression, Ridge\n",
    "from sklearn.model_selection import train_test_split\n",
    "from sklearn.metrics import mutual_info_score, accuracy_score, mean_squared_error\n",
    "import matplotlib.pyplot as plt\n"
   ]
  },
  {
   "cell_type": "code",
   "execution_count": 274,
   "id": "7ec39e6a",
   "metadata": {},
   "outputs": [
    {
     "data": {
      "text/html": [
       "<div>\n",
       "<style scoped>\n",
       "    .dataframe tbody tr th:only-of-type {\n",
       "        vertical-align: middle;\n",
       "    }\n",
       "\n",
       "    .dataframe tbody tr th {\n",
       "        vertical-align: top;\n",
       "    }\n",
       "\n",
       "    .dataframe thead th {\n",
       "        text-align: right;\n",
       "    }\n",
       "</style>\n",
       "<table border=\"1\" class=\"dataframe\">\n",
       "  <thead>\n",
       "    <tr style=\"text-align: right;\">\n",
       "      <th></th>\n",
       "      <th>0</th>\n",
       "      <th>1</th>\n",
       "      <th>2</th>\n",
       "      <th>3</th>\n",
       "      <th>4</th>\n",
       "    </tr>\n",
       "  </thead>\n",
       "  <tbody>\n",
       "    <tr>\n",
       "      <th>lead_source</th>\n",
       "      <td>paid_ads</td>\n",
       "      <td>social_media</td>\n",
       "      <td>events</td>\n",
       "      <td>paid_ads</td>\n",
       "      <td>referral</td>\n",
       "    </tr>\n",
       "    <tr>\n",
       "      <th>industry</th>\n",
       "      <td>NaN</td>\n",
       "      <td>retail</td>\n",
       "      <td>healthcare</td>\n",
       "      <td>retail</td>\n",
       "      <td>education</td>\n",
       "    </tr>\n",
       "    <tr>\n",
       "      <th>number_of_courses_viewed</th>\n",
       "      <td>1</td>\n",
       "      <td>1</td>\n",
       "      <td>5</td>\n",
       "      <td>2</td>\n",
       "      <td>3</td>\n",
       "    </tr>\n",
       "    <tr>\n",
       "      <th>annual_income</th>\n",
       "      <td>79450.0</td>\n",
       "      <td>46992.0</td>\n",
       "      <td>78796.0</td>\n",
       "      <td>83843.0</td>\n",
       "      <td>85012.0</td>\n",
       "    </tr>\n",
       "    <tr>\n",
       "      <th>employment_status</th>\n",
       "      <td>unemployed</td>\n",
       "      <td>employed</td>\n",
       "      <td>unemployed</td>\n",
       "      <td>NaN</td>\n",
       "      <td>self_employed</td>\n",
       "    </tr>\n",
       "    <tr>\n",
       "      <th>location</th>\n",
       "      <td>south_america</td>\n",
       "      <td>south_america</td>\n",
       "      <td>australia</td>\n",
       "      <td>australia</td>\n",
       "      <td>europe</td>\n",
       "    </tr>\n",
       "    <tr>\n",
       "      <th>interaction_count</th>\n",
       "      <td>4</td>\n",
       "      <td>1</td>\n",
       "      <td>3</td>\n",
       "      <td>1</td>\n",
       "      <td>3</td>\n",
       "    </tr>\n",
       "    <tr>\n",
       "      <th>lead_score</th>\n",
       "      <td>0.94</td>\n",
       "      <td>0.8</td>\n",
       "      <td>0.69</td>\n",
       "      <td>0.87</td>\n",
       "      <td>0.62</td>\n",
       "    </tr>\n",
       "    <tr>\n",
       "      <th>converted</th>\n",
       "      <td>1</td>\n",
       "      <td>0</td>\n",
       "      <td>1</td>\n",
       "      <td>0</td>\n",
       "      <td>1</td>\n",
       "    </tr>\n",
       "  </tbody>\n",
       "</table>\n",
       "</div>"
      ],
      "text/plain": [
       "                                      0              1           2          3  \\\n",
       "lead_source                    paid_ads   social_media      events   paid_ads   \n",
       "industry                            NaN         retail  healthcare     retail   \n",
       "number_of_courses_viewed              1              1           5          2   \n",
       "annual_income                   79450.0        46992.0     78796.0    83843.0   \n",
       "employment_status            unemployed       employed  unemployed        NaN   \n",
       "location                  south_america  south_america   australia  australia   \n",
       "interaction_count                     4              1           3          1   \n",
       "lead_score                         0.94            0.8        0.69       0.87   \n",
       "converted                             1              0           1          0   \n",
       "\n",
       "                                      4  \n",
       "lead_source                    referral  \n",
       "industry                      education  \n",
       "number_of_courses_viewed              3  \n",
       "annual_income                   85012.0  \n",
       "employment_status         self_employed  \n",
       "location                         europe  \n",
       "interaction_count                     3  \n",
       "lead_score                         0.62  \n",
       "converted                             1  "
      ]
     },
     "execution_count": 274,
     "metadata": {},
     "output_type": "execute_result"
    }
   ],
   "source": [
    "data = 'https://raw.githubusercontent.com/alexeygrigorev/datasets/master/course_lead_scoring.csv' \\\n",
    "\n",
    "\n",
    "df = pd.read_csv(data)\n",
    "\n",
    "\n",
    "df.head().T\n"
   ]
  },
  {
   "cell_type": "code",
   "execution_count": 275,
   "id": "3e2b58f2",
   "metadata": {},
   "outputs": [],
   "source": [
    "\n",
    "categoricas= ['lead_source', 'industry', 'employment_status', 'location']\n",
    "numericas = ['number_of_courses_viewed','annual_income', 'interaction_count', 'lead_score']"
   ]
  },
  {
   "cell_type": "code",
   "execution_count": 276,
   "id": "5fd496ce",
   "metadata": {},
   "outputs": [
    {
     "name": "stdout",
     "output_type": "stream",
     "text": [
      "0\n",
      "0\n",
      "0\n",
      "0\n",
      "0\n",
      "0\n",
      "0\n",
      "0\n"
     ]
    }
   ],
   "source": [
    "for col in df[numericas]:\n",
    "    df[col] = pd.to_numeric(df[col], errors='coerce')\n",
    "    df[col] = df[col].fillna(0)\n",
    "    print(df[col].isnull().sum())\n",
    "\n",
    "\n",
    "\n",
    "for col in df[categoricas]:\n",
    "    df[col] = df[col].fillna('NA')\n",
    "    print(df[col].isnull().sum())\n",
    "\n",
    "\n"
   ]
  },
  {
   "cell_type": "code",
   "execution_count": 277,
   "id": "5ea345fe",
   "metadata": {},
   "outputs": [],
   "source": [
    "df_full_train, df_test = train_test_split(df, test_size= 0.2, random_state=1)\n",
    "df_train, df_val = train_test_split(df_full_train, test_size= 0.25, random_state=1)\n",
    "\n",
    "df_train = df_train.reset_index(drop=True)\n",
    "df_val = df_val.reset_index(drop=True)\n",
    "df_test = df_test.reset_index(drop=True)\n",
    "\n",
    "y_train = df_train.converted.values\n",
    "y_val = df_val.converted.values\n",
    "y_test = df_test.converted.values\n",
    "\n",
    "del df_train['converted']\n",
    "del df_val['converted']\n",
    "del df_test['converted']\n"
   ]
  },
  {
   "cell_type": "code",
   "execution_count": 278,
   "id": "17c8a40e",
   "metadata": {},
   "outputs": [
    {
     "name": "stdout",
     "output_type": "stream",
     "text": [
      "number_of_courses_viewed, 0.7636\n",
      "annual_income, 0.5520\n",
      "interaction_count, 0.7383\n",
      "lead_score, 0.6145\n"
     ]
    }
   ],
   "source": [
    "#Q1\n",
    "\n",
    "from sklearn.metrics import roc_auc_score\n",
    "\n",
    "scores = []\n",
    "\n",
    "for col in numericas:\n",
    "    score = df_train[col]\n",
    "\n",
    "    auc = roc_auc_score(y_train, score)\n",
    "\n",
    "    if auc < 0.5:\n",
    "        score_inv = -score\n",
    "        auc = roc_auc_score(y_train, score_inv)\n",
    "\n",
    "    print((f\"{col}, {auc:.4f}\" ))"
   ]
  },
  {
   "cell_type": "code",
   "execution_count": 279,
   "id": "891fe343",
   "metadata": {},
   "outputs": [],
   "source": [
    "from sklearn.preprocessing import StandardScaler\n",
    "\n",
    "scaler = StandardScaler()\n",
    "df_train[numericas] = scaler.fit_transform(df_train[numericas])\n",
    "df_val[numericas]   = scaler.transform(df_val[numericas])"
   ]
  },
  {
   "cell_type": "code",
   "execution_count": 280,
   "id": "c793f6be",
   "metadata": {},
   "outputs": [
    {
     "data": {
      "text/plain": [
       "np.float64(0.85)"
      ]
     },
     "execution_count": 280,
     "metadata": {},
     "output_type": "execute_result"
    }
   ],
   "source": [
    "#Q2\n",
    "dict_train= df_train.to_dict(orient='records')\n",
    "dict_val= df_val.to_dict(orient='records')\n",
    "\n",
    "dv = DictVectorizer(sparse=False)\n",
    "X_train= dv.fit_transform(dict_train)\n",
    "X_val= dv.transform(dict_val)\n",
    "\n",
    "# Modelo\n",
    "model = LogisticRegression(solver='liblinear', C=1.0, max_iter=1000)\n",
    "model.fit(X_train, y_train)\n",
    "y_pred = model.predict(X_val)\n",
    "y_pred_prob = model.predict_proba(X_val)[:, 1]\n",
    "\n",
    "\n",
    "score_orig = accuracy_score(y_val, y_pred)\n",
    "Accuracy = np.round(score_orig,2)\n",
    "Accuracy\n",
    "\n"
   ]
  },
  {
   "cell_type": "code",
   "execution_count": 281,
   "id": "50c135fe",
   "metadata": {},
   "outputs": [
    {
     "data": {
      "text/plain": [
       "0.920956763493433"
      ]
     },
     "execution_count": 281,
     "metadata": {},
     "output_type": "execute_result"
    }
   ],
   "source": [
    "from sklearn.metrics import roc_curve\n",
    "\n",
    "from sklearn.metrics import auc\n",
    "\n",
    "\n",
    "fpr, tpr, thresholds = roc_curve(y_val, y_pred)\n",
    "\n",
    "auc(fpr, tpr)\n",
    "\n",
    "roc_auc_score(y_val,y_pred_prob)"
   ]
  },
  {
   "cell_type": "code",
   "execution_count": 282,
   "id": "358db67f",
   "metadata": {},
   "outputs": [
    {
     "name": "stderr",
     "output_type": "stream",
     "text": [
      "C:\\Users\\TALIGENT\\AppData\\Local\\Temp\\ipykernel_10424\\2118219730.py:21: RuntimeWarning: invalid value encountered in scalar divide\n",
      "  p = tp  / (tp + fp)\n"
     ]
    },
    {
     "data": {
      "text/plain": [
       "<matplotlib.legend.Legend at 0x20369f707d0>"
      ]
     },
     "execution_count": 282,
     "metadata": {},
     "output_type": "execute_result"
    },
    {
     "data": {
      "image/png": "[encoded data removed]",
      "text/plain": [
       "<Figure size 640x480 with 1 Axes>"
      ]
     },
     "metadata": {},
     "output_type": "display_data"
    }
   ],
   "source": [
    "#Q3\n",
    "actual_positive = (y_val == 1)\n",
    "actual_negative = (y_val == 0)\n",
    "\n",
    "thresholds = np.linspace(0,1, 101)\n",
    "\n",
    "Matriz = []\n",
    "\n",
    "for t in thresholds:\n",
    "    pred_positive = (y_pred_prob >= t)\n",
    "    pred_negative= (y_pred_prob < t)\n",
    "\n",
    "#VERDADEROS POSITIVOS Y NEGATIVOS\n",
    "    tp = (pred_positive & actual_positive).sum()\n",
    "    tn = (pred_negative & actual_negative).sum()\n",
    "\n",
    "#FALSOS POSITIVOS Y NEGATIVOS\n",
    "    fp = (pred_positive & actual_negative).sum()\n",
    "    fn = (pred_negative & actual_positive).sum()\n",
    "\n",
    "    p = tp  / (tp + fp)\n",
    "    r = tp / (tp + fn)\n",
    "    dif = np.abs(p-r)\n",
    "\n",
    "    Matriz.append((t,tp,tn,fp,fn,p,r,dif))\n",
    "\n",
    "columns = ['thresholds','tp','tn','fp','fn','precision','recall','dif']\n",
    "df_pr = pd.DataFrame(Matriz, columns= columns)\n",
    "\n",
    "plt.plot(df_pr.thresholds, df_pr.recall, label='Recall')\n",
    "plt.plot(df_pr.thresholds, df_pr.precision, label='Precision')\n",
    "plt.plot(df_pr.thresholds, df_pr.dif, label='Dif')\n",
    "\n",
    "plt.legend()"
   ]
  },
  {
   "cell_type": "code",
   "execution_count": 289,
   "id": "58bf23b1",
   "metadata": {},
   "outputs": [
    {
     "data": {
      "text/plain": [
       "53    0.53\n",
       "Name: thresholds, dtype: float64"
      ]
     },
     "execution_count": 289,
     "metadata": {},
     "output_type": "execute_result"
    }
   ],
   "source": [
    "dif_min = df_pr.dif.min()\n",
    "df_pr.thresholds[df_pr.dif == dif_min]"
   ]
  },
  {
   "cell_type": "code",
   "execution_count": 290,
   "id": "ac7372a0",
   "metadata": {},
   "outputs": [
    {
     "data": {
      "text/plain": [
       "53    0.53\n",
       "Name: thresholds, dtype: float64"
      ]
     },
     "execution_count": 290,
     "metadata": {},
     "output_type": "execute_result"
    },
    {
     "data": {
      "image/png": "[encoded data removed]",
      "text/plain": [
       "<Figure size 640x480 with 1 Axes>"
      ]
     },
     "metadata": {},
     "output_type": "display_data"
    }
   ],
   "source": [
    "df_pr['F1'] = 2*((df_pr.precision * df_pr.recall)/(df_pr.precision + df_pr.recall))\n",
    "plt.plot(df_pr.thresholds, df_pr.F1, label='F1')\n",
    "plt.legend()\n",
    "\n",
    "F1_max = df_pr.F1.max()\n",
    "\n",
    "df_pr.thresholds[df_pr['F1']== F1_max]"
   ]
  },
  {
   "cell_type": "code",
   "execution_count": 285,
   "id": "9210ac9f",
   "metadata": {},
   "outputs": [
    {
     "data": {
      "text/plain": [
       "<matplotlib.legend.Legend at 0x2036a06fc50>"
      ]
     },
     "execution_count": 285,
     "metadata": {},
     "output_type": "execute_result"
    },
    {
     "data": {
      "image/png": "[encoded data removed]",
      "text/plain": [
       "<Figure size 640x480 with 1 Axes>"
      ]
     },
     "metadata": {},
     "output_type": "display_data"
    }
   ],
   "source": [
    "plt.plot(df_pr.thresholds, df_pr.recall, label='Recall')\n",
    "plt.plot(df_pr.thresholds, df_pr.precision, label='Precision')\n",
    "plt.plot(df_pr.thresholds, df_pr.dif, label='Dif')\n",
    "plt.plot(df_pr.thresholds, df_pr.F1, label='F1')\n",
    "\n",
    "plt.legend()"
   ]
  },
  {
   "cell_type": "code",
   "execution_count": 286,
   "id": "3b88ac53",
   "metadata": {},
   "outputs": [],
   "source": [
    "\n",
    "def train(df_train,y_train,C):\n",
    "    train_dict = df_train[categoricas + numericas].to_dict(orient='records')\n",
    "    dv = DictVectorizer(sparse=False)\n",
    "    X_train = dv.fit_transform(train_dict)\n",
    "\n",
    "    model = LogisticRegression(solver='liblinear', C=C, max_iter=1000)\n",
    "    model.fit(X_train, y_train)\n",
    "    return dv, model\n",
    "dv, model = train(df_train, y_train, C=0.001)\n",
    "\n",
    "def prediccion(df_val,dv,model):\n",
    "    val_dict = df_val[categoricas + numericas].to_dict(orient='records')\n",
    "    X_val = dv.transform(val_dict)\n",
    "    y_pred = model.predict_proba(X_val)[:, 1]\n",
    "    return y_pred\n",
    "\n",
    "y_pred = prediccion(df_val, dv, model)"
   ]
  },
  {
   "cell_type": "code",
   "execution_count": null,
   "id": "2c174b8f",
   "metadata": {},
   "outputs": [
    {
     "name": "stdout",
     "output_type": "stream",
     "text": [
      "0.03580711942905165\n"
     ]
    }
   ],
   "source": [
    "#Q5\n",
    "from sklearn.model_selection import KFold\n",
    "\n",
    "\n",
    "n_splits = 5 \n",
    "\n",
    "\n",
    "Kfold = KFold(n_splits=n_splits, shuffle=True, random_state=1)\n",
    "\n",
    "\n",
    "scores = []\n",
    "\n",
    "for(train_idx, val_idx) in Kfold.split(df_full_train):\n",
    "    df_train = df_full_train.iloc[train_idx]\n",
    "    df_val = df_full_train.iloc[val_idx]\n",
    "\n",
    "    y_train = df_train.converted.values\n",
    "    y_val = df_val.converted.values\n",
    "\n",
    "    dv, model = train(df_train,y_train,C=1.0)\n",
    "    y_pred = prediccion(df_val,dv,model)\n",
    "\n",
    "    auc = roc_auc_score(y_val,y_pred)\n",
    "    scores.append(auc)\n",
    "\n",
    "print(np.std(scores))"
   ]
  },
  {
   "cell_type": "code",
   "execution_count": 288,
   "id": "879c06b9",
   "metadata": {},
   "outputs": [
    {
     "name": "stdout",
     "output_type": "stream",
     "text": [
      "C=1e-06 0.822 +- 0.036\n",
      "C=0.001 0.822 +- 0.036\n",
      "C=1 0.822 +- 0.036\n"
     ]
    }
   ],
   "source": [
    "#Q6\n",
    "\n",
    "n_splits = 5 \n",
    "\n",
    "for C in [0.000001, 0.001, 1]:\n",
    "    Kfold = KFold(n_splits=n_splits, shuffle=True, random_state=1)\n",
    "\n",
    "\n",
    "    scores = []\n",
    "\n",
    "    for(train_idx, val_idx) in Kfold.split(df_full_train):\n",
    "        df_train = df_full_train.iloc[train_idx]\n",
    "        df_val = df_full_train.iloc[val_idx]\n",
    "\n",
    "        y_train = df_train.converted.values\n",
    "        y_val = df_val.converted.values\n",
    "\n",
    "        dv, model = train(df_train,y_train,C=1.0)\n",
    "        y_pred = prediccion(df_val,dv,model)\n",
    "\n",
    "        auc = roc_auc_score(y_val,y_pred)\n",
    "        scores.append(auc)\n",
    "\n",
    "    print('C=%s %.3f +- %.3f' % (C, np.mean(scores), np.std(scores)))\n",
    "# el C mas bajo"
   ]
  },
  {
   "cell_type": "code",
   "execution_count": null,
   "id": "d4c85b61",
   "metadata": {},
   "outputs": [],
   "source": []
  },
  {
   "cell_type": "code",
   "execution_count": null,
   "id": "66717c70",
   "metadata": {},
   "outputs": [],
   "source": []
  }
 ],
 "metadata": {
  "kernelspec": {
   "display_name": "Python 3",
   "language": "python",
   "name": "python3"
  },
  "language_info": {
   "codemirror_mode": {
    "name": "ipython",
    "version": 3
   },
   "file_extension": ".py",
   "mimetype": "text/x-python",
   "name": "python",
   "nbconvert_exporter": "python",
   "pygments_lexer": "ipython3",
   "version": "3.13.1"
  }
 },
 "nbformat": 4,
 "nbformat_minor": 5
}

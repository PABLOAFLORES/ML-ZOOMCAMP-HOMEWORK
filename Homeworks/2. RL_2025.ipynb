{
 "cells": [
  {
   "cell_type": "code",
   "execution_count": 69,
   "id": "8b852e88",
   "metadata": {},
   "outputs": [],
   "source": [
    "import pandas as pd\n",
    "import numpy as np"
   ]
  },
  {
   "cell_type": "code",
   "execution_count": 70,
   "id": "d9555c26",
   "metadata": {},
   "outputs": [],
   "source": [
    "data = 'https://raw.githubusercontent.com/alexeygrigorev/datasets/master/car_fuel_efficiency.csv'\n",
    "\n",
    "df_original = pd.read_csv(data)\n"
   ]
  },
  {
   "cell_type": "code",
   "execution_count": 71,
   "id": "05dec9fd",
   "metadata": {},
   "outputs": [
    {
     "data": {
      "text/html": [
       "<div>\n",
       "<style scoped>\n",
       "    .dataframe tbody tr th:only-of-type {\n",
       "        vertical-align: middle;\n",
       "    }\n",
       "\n",
       "    .dataframe tbody tr th {\n",
       "        vertical-align: top;\n",
       "    }\n",
       "\n",
       "    .dataframe thead th {\n",
       "        text-align: right;\n",
       "    }\n",
       "</style>\n",
       "<table border=\"1\" class=\"dataframe\">\n",
       "  <thead>\n",
       "    <tr style=\"text-align: right;\">\n",
       "      <th></th>\n",
       "      <th>0</th>\n",
       "      <th>1</th>\n",
       "      <th>2</th>\n",
       "      <th>3</th>\n",
       "      <th>4</th>\n",
       "    </tr>\n",
       "  </thead>\n",
       "  <tbody>\n",
       "    <tr>\n",
       "      <th>engine_displacement</th>\n",
       "      <td>170.000000</td>\n",
       "      <td>130.000000</td>\n",
       "      <td>170.000000</td>\n",
       "      <td>220.000000</td>\n",
       "      <td>210.000000</td>\n",
       "    </tr>\n",
       "    <tr>\n",
       "      <th>horsepower</th>\n",
       "      <td>159.000000</td>\n",
       "      <td>97.000000</td>\n",
       "      <td>78.000000</td>\n",
       "      <td>NaN</td>\n",
       "      <td>140.000000</td>\n",
       "    </tr>\n",
       "    <tr>\n",
       "      <th>vehicle_weight</th>\n",
       "      <td>3413.433759</td>\n",
       "      <td>3149.664934</td>\n",
       "      <td>3079.038997</td>\n",
       "      <td>2542.392402</td>\n",
       "      <td>3460.870990</td>\n",
       "    </tr>\n",
       "    <tr>\n",
       "      <th>model_year</th>\n",
       "      <td>2003.000000</td>\n",
       "      <td>2007.000000</td>\n",
       "      <td>2018.000000</td>\n",
       "      <td>2009.000000</td>\n",
       "      <td>2009.000000</td>\n",
       "    </tr>\n",
       "    <tr>\n",
       "      <th>fuel_efficiency_mpg</th>\n",
       "      <td>13.231729</td>\n",
       "      <td>13.688217</td>\n",
       "      <td>14.246341</td>\n",
       "      <td>16.912736</td>\n",
       "      <td>12.488369</td>\n",
       "    </tr>\n",
       "  </tbody>\n",
       "</table>\n",
       "</div>"
      ],
      "text/plain": [
       "                               0            1            2            3  \\\n",
       "engine_displacement   170.000000   130.000000   170.000000   220.000000   \n",
       "horsepower            159.000000    97.000000    78.000000          NaN   \n",
       "vehicle_weight       3413.433759  3149.664934  3079.038997  2542.392402   \n",
       "model_year           2003.000000  2007.000000  2018.000000  2009.000000   \n",
       "fuel_efficiency_mpg    13.231729    13.688217    14.246341    16.912736   \n",
       "\n",
       "                               4  \n",
       "engine_displacement   210.000000  \n",
       "horsepower            140.000000  \n",
       "vehicle_weight       3460.870990  \n",
       "model_year           2009.000000  \n",
       "fuel_efficiency_mpg    12.488369  "
      ]
     },
     "execution_count": 71,
     "metadata": {},
     "output_type": "execute_result"
    }
   ],
   "source": [
    "columns = ['engine_displacement','horsepower','vehicle_weight','model_year','fuel_efficiency_mpg']\n",
    "\n",
    "df = df_original[columns]\n",
    "\n",
    "df.head().T"
   ]
  },
  {
   "cell_type": "code",
   "execution_count": 72,
   "id": "2c2564f1",
   "metadata": {},
   "outputs": [
    {
     "name": "stderr",
     "output_type": "stream",
     "text": [
      "C:\\Users\\TALIGENT\\AppData\\Local\\Temp\\ipykernel_3860\\389122679.py:2: SettingWithCopyWarning: \n",
      "A value is trying to be set on a copy of a slice from a DataFrame.\n",
      "Try using .loc[row_indexer,col_indexer] = value instead\n",
      "\n",
      "See the caveats in the documentation: https://pandas.pydata.org/pandas-docs/stable/user_guide/indexing.html#returning-a-view-versus-a-copy\n",
      "  df['age'] = (df.model_year.max()) - (df.model_year)\n"
     ]
    },
    {
     "data": {
      "text/html": [
       "<div>\n",
       "<style scoped>\n",
       "    .dataframe tbody tr th:only-of-type {\n",
       "        vertical-align: middle;\n",
       "    }\n",
       "\n",
       "    .dataframe tbody tr th {\n",
       "        vertical-align: top;\n",
       "    }\n",
       "\n",
       "    .dataframe thead th {\n",
       "        text-align: right;\n",
       "    }\n",
       "</style>\n",
       "<table border=\"1\" class=\"dataframe\">\n",
       "  <thead>\n",
       "    <tr style=\"text-align: right;\">\n",
       "      <th></th>\n",
       "      <th>engine_displacement</th>\n",
       "      <th>horsepower</th>\n",
       "      <th>vehicle_weight</th>\n",
       "      <th>fuel_efficiency_mpg</th>\n",
       "      <th>age</th>\n",
       "    </tr>\n",
       "  </thead>\n",
       "  <tbody>\n",
       "    <tr>\n",
       "      <th>0</th>\n",
       "      <td>170</td>\n",
       "      <td>159.0</td>\n",
       "      <td>3413.433759</td>\n",
       "      <td>13.231729</td>\n",
       "      <td>20</td>\n",
       "    </tr>\n",
       "    <tr>\n",
       "      <th>1</th>\n",
       "      <td>130</td>\n",
       "      <td>97.0</td>\n",
       "      <td>3149.664934</td>\n",
       "      <td>13.688217</td>\n",
       "      <td>16</td>\n",
       "    </tr>\n",
       "    <tr>\n",
       "      <th>2</th>\n",
       "      <td>170</td>\n",
       "      <td>78.0</td>\n",
       "      <td>3079.038997</td>\n",
       "      <td>14.246341</td>\n",
       "      <td>5</td>\n",
       "    </tr>\n",
       "    <tr>\n",
       "      <th>3</th>\n",
       "      <td>220</td>\n",
       "      <td>NaN</td>\n",
       "      <td>2542.392402</td>\n",
       "      <td>16.912736</td>\n",
       "      <td>14</td>\n",
       "    </tr>\n",
       "    <tr>\n",
       "      <th>4</th>\n",
       "      <td>210</td>\n",
       "      <td>140.0</td>\n",
       "      <td>3460.870990</td>\n",
       "      <td>12.488369</td>\n",
       "      <td>14</td>\n",
       "    </tr>\n",
       "  </tbody>\n",
       "</table>\n",
       "</div>"
      ],
      "text/plain": [
       "   engine_displacement  horsepower  vehicle_weight  fuel_efficiency_mpg  age\n",
       "0                  170       159.0     3413.433759            13.231729   20\n",
       "1                  130        97.0     3149.664934            13.688217   16\n",
       "2                  170        78.0     3079.038997            14.246341    5\n",
       "3                  220         NaN     2542.392402            16.912736   14\n",
       "4                  210       140.0     3460.870990            12.488369   14"
      ]
     },
     "execution_count": 72,
     "metadata": {},
     "output_type": "execute_result"
    }
   ],
   "source": [
    "# Antiguedad en lugar de model_year para el analisis\n",
    "df['age'] = (df.model_year.max()) - (df.model_year)\n",
    "\n",
    "df = df.drop(columns=['model_year']) \n",
    "\n",
    "df.head()"
   ]
  },
  {
   "cell_type": "code",
   "execution_count": 73,
   "id": "beabcdc6",
   "metadata": {},
   "outputs": [],
   "source": [
    "import matplotlib.pyplot as plt\n",
    "import seaborn as sns"
   ]
  },
  {
   "cell_type": "code",
   "execution_count": 74,
   "id": "93d09e53",
   "metadata": {},
   "outputs": [
    {
     "data": {
      "text/plain": [
       "<Axes: xlabel='fuel_efficiency_mpg', ylabel='Count'>"
      ]
     },
     "execution_count": 74,
     "metadata": {},
     "output_type": "execute_result"
    },
    {
     "data": {
      "image/png": "[encoded data removed]",
      "text/plain": [
       "<Figure size 640x480 with 1 Axes>"
      ]
     },
     "metadata": {},
     "output_type": "display_data"
    }
   ],
   "source": [
    "#Q1 No es long tail es una distribucion normal\n",
    "sns.histplot(df.fuel_efficiency_mpg, bins=25)"
   ]
  },
  {
   "cell_type": "code",
   "execution_count": 87,
   "id": "f9ed0125",
   "metadata": {},
   "outputs": [
    {
     "data": {
      "text/plain": [
       "engine_displacement      0\n",
       "horsepower             708\n",
       "vehicle_weight           0\n",
       "fuel_efficiency_mpg      0\n",
       "age                      0\n",
       "dtype: int64"
      ]
     },
     "execution_count": 87,
     "metadata": {},
     "output_type": "execute_result"
    }
   ],
   "source": [
    "df.isnull().sum()"
   ]
  },
  {
   "cell_type": "code",
   "execution_count": 75,
   "id": "26e756f5",
   "metadata": {},
   "outputs": [
    {
     "data": {
      "text/plain": [
       "count    8996.000000\n",
       "mean      149.657292\n",
       "std        29.879555\n",
       "min        37.000000\n",
       "25%       130.000000\n",
       "50%       149.000000\n",
       "75%       170.000000\n",
       "max       271.000000\n",
       "Name: horsepower, dtype: float64"
      ]
     },
     "execution_count": 75,
     "metadata": {},
     "output_type": "execute_result"
    }
   ],
   "source": [
    "# Q2 Mean = 149\n",
    "df.horsepower.describe()"
   ]
  },
  {
   "cell_type": "code",
   "execution_count": 76,
   "id": "cd6f29fb",
   "metadata": {},
   "outputs": [],
   "source": [
    "# Q3\n",
    "\n",
    "n = len(df)\n",
    "\n",
    "n_val= int(n * (0.2))\n",
    "n_test= int(n * (0.2))\n",
    "n_train= n - n_val - n_test\n",
    "\n",
    "idx =  np.arange(n)\n",
    "np.random.seed(42) \n",
    "np.random.shuffle (idx)\n",
    "\n",
    "df_train = df.iloc [idx[:n_train]]\n",
    "df_val = df.iloc[idx[n_train: n_train + n_val]]\n",
    "df_test = df.iloc[idx[n_train + n_val:]]\n",
    "\n",
    "df_train = df_train.reset_index(drop = True)\n",
    "df_val = df_val.reset_index(drop = True)\n",
    "df_test = df_test.reset_index(drop = True)\n",
    "\n",
    "y_train = df_train.fuel_efficiency_mpg.values\n",
    "y_val = df_val.fuel_efficiency_mpg.values\n",
    "y_test = df_test.fuel_efficiency_mpg.values\n",
    "\n",
    "del df_train['fuel_efficiency_mpg']\n",
    "del df_val['fuel_efficiency_mpg']\n",
    "del df_test['fuel_efficiency_mpg'] \n"
   ]
  },
  {
   "cell_type": "code",
   "execution_count": 77,
   "id": "5eb3014e",
   "metadata": {},
   "outputs": [
    {
     "name": "stdout",
     "output_type": "stream",
     "text": [
      "horsepower :  708\n"
     ]
    }
   ],
   "source": [
    "# Datos Nulos (solo HORSEPOWER)\n",
    "col_nulos= list(df.columns[df.isnull().sum() > 0])\n",
    "col_nulos\n",
    "for col in col_nulos:\n",
    "    print (col,': ', df[col].isnull().sum())"
   ]
  },
  {
   "cell_type": "code",
   "execution_count": 78,
   "id": "4c7c013a",
   "metadata": {},
   "outputs": [],
   "source": [
    "# FUNCIONES\n",
    "\n",
    "def prepare_X(df,fillna):\n",
    "    df = df.copy()\n",
    "\n",
    "    df_num = df\n",
    "    df_num = df_num.fillna(fillna)\n",
    "    X = df_num.values\n",
    "    return X\n",
    "\n",
    "def train_linear_regression(X,y):\n",
    "    ones = np.ones(X.shape[0])\n",
    "    X = np.column_stack([ones,X])\n",
    "\n",
    "    XTX = X.T.dot(X)\n",
    "    XTX_INV = np.linalg.inv(XTX )\n",
    "    w_full = XTX_INV.dot(X.T).dot(y)\n",
    "    return w_full[0], w_full[1:]\n",
    "\n",
    "def rmse(y, y_pred):\n",
    "    se = ( y_pred - y) ** 2 \n",
    "    mse = se.mean() \n",
    "    return np.sqrt(mse) "
   ]
  },
  {
   "cell_type": "code",
   "execution_count": 79,
   "id": "b9d0a907",
   "metadata": {},
   "outputs": [
    {
     "data": {
      "text/plain": [
       "np.float64(0.52)"
      ]
     },
     "execution_count": 79,
     "metadata": {},
     "output_type": "execute_result"
    }
   ],
   "source": [
    "#Valores nulos horsepower por 0\n",
    "X_train = prepare_X (df_train,fillna = 0)\n",
    "w0, w = train_linear_regression(X_train, y_train)\n",
    "\n",
    "X_val = prepare_X (df_val, fillna = 0)\n",
    "y_pred = w0 + X_val.dot(w)\n",
    "\n",
    "round(rmse(y_val, y_pred),2)"
   ]
  },
  {
   "cell_type": "code",
   "execution_count": 80,
   "id": "d1e9e8f8",
   "metadata": {},
   "outputs": [
    {
     "data": {
      "text/plain": [
       "np.float64(0.61)"
      ]
     },
     "execution_count": 80,
     "metadata": {},
     "output_type": "execute_result"
    }
   ],
   "source": [
    "#Valores nulos horsepower por media\n",
    "mean = df_train.horsepower.mean()\n",
    "X_train = prepare_X (df_train,fillna = mean)\n",
    "w0, w = train_linear_regression(X_train, y_train)\n",
    "\n",
    "X_val = prepare_X (df_val, fillna = 0)\n",
    "y_pred = w0 + X_val.dot(w)\n",
    "\n",
    "round(rmse(y_val, y_pred),2)\n",
    "\n",
    "## Rellenar con 0 seria la mejor opcion"
   ]
  },
  {
   "cell_type": "code",
   "execution_count": null,
   "id": "98974659",
   "metadata": {},
   "outputs": [
    {
     "name": "stdout",
     "output_type": "stream",
     "text": [
      "r: 0   score: 0.52\n",
      "r: 0.01   score: 0.52\n",
      "r: 0.1   score: 0.52\n",
      "r: 1   score: 0.52\n",
      "r: 5   score: 0.55\n",
      "r: 10   score: 0.64\n",
      "r: 100   score: 2.06\n"
     ]
    }
   ],
   "source": [
    "#Q4  REGULARIZACION con fillna 0 screen\n",
    "def train_linear_regression_reg(X,y,r):\n",
    "    ones = np.ones(X.shape[0])\n",
    "    X = np.column_stack([ones,X])\n",
    "\n",
    "    XTX = X.T.dot(X)\n",
    "    XTX = XTX + r *np.eye(XTX.shape[0])\n",
    "\n",
    "    XTX_INV = np.linalg.inv(XTX )\n",
    "    w_full = XTX_INV.dot(X.T).dot(y)\n",
    "    return w_full[0], w_full[1:] \n",
    "\n",
    "for r in [0, 0.01, 0.1, 1, 5, 10, 100]:\n",
    "    X_train = prepare_X (df_train,fillna=0)\n",
    "    w0, w = train_linear_regression_reg(X_train, y_train,r)\n",
    "\n",
    "    X_val = prepare_X (df_val, fillna=0)\n",
    "    y_pred = w0 + X_val.dot(w)\n",
    "\n",
    "    score = rmse(y_val, y_pred)\n",
    "\n",
    "    print('r:',r,' ','score:', round(score,2))\n",
    "\n",
    "# Seria 0.01"
   ]
  },
  {
   "cell_type": "code",
   "execution_count": 84,
   "id": "39ea52a1",
   "metadata": {},
   "outputs": [
    {
     "name": "stdout",
     "output_type": "stream",
     "text": [
      "0 0.5206531296298016\n",
      "1 0.5213388912856999\n",
      "2 0.5228069974802074\n",
      "3 0.5159516741173612\n",
      "4 0.5109129460065411\n",
      "5 0.5283406460165976\n",
      "6 0.5313910658170673\n",
      "7 0.5090670387374354\n",
      "8 0.514739912935085\n",
      "9 0.5131865908330963\n"
     ]
    },
    {
     "data": {
      "text/plain": [
       "np.float64(0.007)"
      ]
     },
     "execution_count": 84,
     "metadata": {},
     "output_type": "execute_result"
    }
   ],
   "source": [
    "#Q5 For para ver los resultados de las distitnas seed y calcular desviacion standart\n",
    "seed_scores= []\n",
    "for s in [0,1,2,3,4,5,6,7,8,9]:\n",
    "    n = len(df)\n",
    "\n",
    "    n_val = int(n * 0.2)\n",
    "    n_test = int(n * 0.2)\n",
    "    n_train = n - (n_val+n_test)\n",
    "\n",
    "    idx = np.arange(n) # crea un vector con numerso hasta n-1\n",
    "\n",
    "    np.random.seed(s)\n",
    "    np.random.shuffle(idx)\n",
    "\n",
    "    df_train = df.iloc[idx[:n_train]]\n",
    "    df_val = df.iloc[idx[n_train:n_train + n_val]]\n",
    "    df_test = df.iloc[idx[n_train+n_val:]]\n",
    "\n",
    "    df_train = df_train.reset_index(drop = True)\n",
    "    df_val = df_val.reset_index(drop = True)\n",
    "    df_test = df_test.reset_index(drop = True)\n",
    "    y_train  = df_train.fuel_efficiency_mpg.values\n",
    "    y_val = df_val.fuel_efficiency_mpg.values\n",
    "    y_test  = df_test.fuel_efficiency_mpg.values\n",
    "\n",
    "    del df_train['fuel_efficiency_mpg']\n",
    "    del df_val['fuel_efficiency_mpg']\n",
    "    del df_test['fuel_efficiency_mpg']\n",
    "\n",
    "\n",
    "\n",
    "    X_train = prepare_X (df_train,fillna=0)\n",
    "    w0, w = train_linear_regression(X_train, y_train)\n",
    "\n",
    "    X_val = prepare_X (df_val,fillna=0)\n",
    "    y_pred = w0 + X_val.dot(w)\n",
    "\n",
    "    score = rmse(y_val, y_pred)\n",
    "    seed_scores.append(score)\n",
    "    print(s, score)\n",
    "\n",
    "round(np.std(seed_scores),3)\n"
   ]
  },
  {
   "cell_type": "code",
   "execution_count": 90,
   "id": "7cb9d66a",
   "metadata": {},
   "outputs": [
    {
     "data": {
      "text/plain": [
       "np.float64(0.5156)"
      ]
     },
     "execution_count": 90,
     "metadata": {},
     "output_type": "execute_result"
    }
   ],
   "source": [
    "# Q6 Concatenamos DF TRAIN Y VAL y lo probamos contra Test. Seed 9\n",
    "n = len(df)\n",
    "\n",
    "n_val = int(n * 0.2)\n",
    "n_test = int(n * 0.2)\n",
    "n_train = n - (n_val+n_test)\n",
    "\n",
    "idx = np.arange(n) # crea un vector con numerso hasta n-1\n",
    "\n",
    "np.random.seed(9)\n",
    "np.random.shuffle(idx)\n",
    "\n",
    "df_train = df.iloc[idx[:n_train]]\n",
    "df_val = df.iloc[idx[n_train:n_train + n_val]]\n",
    "df_test = df.iloc[idx[n_train+n_val:]]\n",
    "\n",
    "df_train = df_train.reset_index(drop = True)\n",
    "df_val = df_val.reset_index(drop = True) \n",
    "df_test = df_test.reset_index(drop = True)\n",
    "y_train  = df_train.fuel_efficiency_mpg.values\n",
    "y_val = df_val.fuel_efficiency_mpg.values\n",
    "y_test  = df_test.fuel_efficiency_mpg.values\n",
    "\n",
    "del df_train['fuel_efficiency_mpg']\n",
    "del df_val['fuel_efficiency_mpg']\n",
    "del df_test['fuel_efficiency_mpg']\n",
    "\n",
    "\n",
    "\n",
    "df_full_train = pd.concat([df_train,df_val])\n",
    "df_full_train = df_full_train.reset_index(drop = True)\n",
    "\n",
    "y_full_train = np.concatenate([y_train, y_val])\n",
    "\n",
    "X_full_train = prepare_X(df_full_train,fillna=0)\n",
    "w0, w = train_linear_regression_reg(X_full_train, y_full_train,0.001)\n",
    "X_test = prepare_X(df_test,fillna=0)\n",
    "y_pred = w0 + X_test.dot(w)\n",
    "\n",
    "round(rmse(y_test,y_pred),4)"
   ]
  }
 ],
 "metadata": {
  "kernelspec": {
   "display_name": "Python 3",
   "language": "python",
   "name": "python3"
  },
  "language_info": {
   "codemirror_mode": {
    "name": "ipython",
    "version": 3
   },
   "file_extension": ".py",
   "mimetype": "text/x-python",
   "name": "python",
   "nbconvert_exporter": "python",
   "pygments_lexer": "ipython3",
   "version": "3.13.1"
  }
 },
 "nbformat": 4,
 "nbformat_minor": 5
}

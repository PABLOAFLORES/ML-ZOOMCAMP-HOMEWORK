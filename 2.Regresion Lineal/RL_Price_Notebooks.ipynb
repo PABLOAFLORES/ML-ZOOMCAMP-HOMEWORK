{
 "cells": [
  {
   "cell_type": "code",
   "execution_count": 201,
   "id": "5a5fd23d",
   "metadata": {},
   "outputs": [],
   "source": [
    "import pandas as pd\n",
    "import numpy as np\n",
    "import seaborn as sns\n",
    "import matplotlib.pyplot as plt"
   ]
  },
  {
   "cell_type": "code",
   "execution_count": 202,
   "id": "65a49322",
   "metadata": {},
   "outputs": [],
   "source": [
    "#Tenemos que predecir final_price de notebooks"
   ]
  },
  {
   "cell_type": "code",
   "execution_count": 203,
   "id": "4e8a1d01",
   "metadata": {},
   "outputs": [],
   "source": [
    "data = 'https://raw.githubusercontent.com/alexeygrigorev/datasets/master/laptops.csv'\n",
    "df = pd.read_csv(data)\n"
   ]
  },
  {
   "cell_type": "code",
   "execution_count": 204,
   "id": "a0c83d97",
   "metadata": {},
   "outputs": [
    {
     "data": {
      "text/html": [
       "<div>\n",
       "<style scoped>\n",
       "    .dataframe tbody tr th:only-of-type {\n",
       "        vertical-align: middle;\n",
       "    }\n",
       "\n",
       "    .dataframe tbody tr th {\n",
       "        vertical-align: top;\n",
       "    }\n",
       "\n",
       "    .dataframe thead th {\n",
       "        text-align: right;\n",
       "    }\n",
       "</style>\n",
       "<table border=\"1\" class=\"dataframe\">\n",
       "  <thead>\n",
       "    <tr style=\"text-align: right;\">\n",
       "      <th></th>\n",
       "      <th>laptop</th>\n",
       "      <th>status</th>\n",
       "      <th>brand</th>\n",
       "      <th>model</th>\n",
       "      <th>cpu</th>\n",
       "      <th>ram</th>\n",
       "      <th>storage</th>\n",
       "      <th>storage_type</th>\n",
       "      <th>gpu</th>\n",
       "      <th>screen</th>\n",
       "      <th>touch</th>\n",
       "      <th>final_price</th>\n",
       "    </tr>\n",
       "  </thead>\n",
       "  <tbody>\n",
       "    <tr>\n",
       "      <th>0</th>\n",
       "      <td>asus_expertbook_b1_b1502cba-ej0436x_intel_core...</td>\n",
       "      <td>new</td>\n",
       "      <td>asus</td>\n",
       "      <td>expertbook</td>\n",
       "      <td>intel_core_i5</td>\n",
       "      <td>8</td>\n",
       "      <td>512</td>\n",
       "      <td>ssd</td>\n",
       "      <td>NaN</td>\n",
       "      <td>15.6</td>\n",
       "      <td>no</td>\n",
       "      <td>1009.00</td>\n",
       "    </tr>\n",
       "    <tr>\n",
       "      <th>1</th>\n",
       "      <td>alurin_go_start_intel_celeron_n4020/8gb/256gb_...</td>\n",
       "      <td>new</td>\n",
       "      <td>alurin</td>\n",
       "      <td>go</td>\n",
       "      <td>intel_celeron</td>\n",
       "      <td>8</td>\n",
       "      <td>256</td>\n",
       "      <td>ssd</td>\n",
       "      <td>NaN</td>\n",
       "      <td>15.6</td>\n",
       "      <td>no</td>\n",
       "      <td>299.00</td>\n",
       "    </tr>\n",
       "    <tr>\n",
       "      <th>2</th>\n",
       "      <td>asus_expertbook_b1_b1502cba-ej0424x_intel_core...</td>\n",
       "      <td>new</td>\n",
       "      <td>asus</td>\n",
       "      <td>expertbook</td>\n",
       "      <td>intel_core_i3</td>\n",
       "      <td>8</td>\n",
       "      <td>256</td>\n",
       "      <td>ssd</td>\n",
       "      <td>NaN</td>\n",
       "      <td>15.6</td>\n",
       "      <td>no</td>\n",
       "      <td>789.00</td>\n",
       "    </tr>\n",
       "    <tr>\n",
       "      <th>3</th>\n",
       "      <td>msi_katana_gf66_12uc-082xes_intel_core_i7-1270...</td>\n",
       "      <td>new</td>\n",
       "      <td>msi</td>\n",
       "      <td>katana</td>\n",
       "      <td>intel_core_i7</td>\n",
       "      <td>16</td>\n",
       "      <td>1000</td>\n",
       "      <td>ssd</td>\n",
       "      <td>rtx_3050</td>\n",
       "      <td>15.6</td>\n",
       "      <td>no</td>\n",
       "      <td>1199.00</td>\n",
       "    </tr>\n",
       "    <tr>\n",
       "      <th>4</th>\n",
       "      <td>hp_15s-fq5085ns_intel_core_i5-1235u/16gb/512gb...</td>\n",
       "      <td>new</td>\n",
       "      <td>hp</td>\n",
       "      <td>15s</td>\n",
       "      <td>intel_core_i5</td>\n",
       "      <td>16</td>\n",
       "      <td>512</td>\n",
       "      <td>ssd</td>\n",
       "      <td>NaN</td>\n",
       "      <td>15.6</td>\n",
       "      <td>no</td>\n",
       "      <td>669.01</td>\n",
       "    </tr>\n",
       "  </tbody>\n",
       "</table>\n",
       "</div>"
      ],
      "text/plain": [
       "                                              laptop status   brand  \\\n",
       "0  asus_expertbook_b1_b1502cba-ej0436x_intel_core...    new    asus   \n",
       "1  alurin_go_start_intel_celeron_n4020/8gb/256gb_...    new  alurin   \n",
       "2  asus_expertbook_b1_b1502cba-ej0424x_intel_core...    new    asus   \n",
       "3  msi_katana_gf66_12uc-082xes_intel_core_i7-1270...    new     msi   \n",
       "4  hp_15s-fq5085ns_intel_core_i5-1235u/16gb/512gb...    new      hp   \n",
       "\n",
       "        model            cpu  ram  storage storage_type       gpu  screen  \\\n",
       "0  expertbook  intel_core_i5    8      512          ssd       NaN    15.6   \n",
       "1          go  intel_celeron    8      256          ssd       NaN    15.6   \n",
       "2  expertbook  intel_core_i3    8      256          ssd       NaN    15.6   \n",
       "3      katana  intel_core_i7   16     1000          ssd  rtx_3050    15.6   \n",
       "4         15s  intel_core_i5   16      512          ssd       NaN    15.6   \n",
       "\n",
       "  touch  final_price  \n",
       "0    no      1009.00  \n",
       "1    no       299.00  \n",
       "2    no       789.00  \n",
       "3    no      1199.00  \n",
       "4    no       669.01  "
      ]
     },
     "execution_count": 204,
     "metadata": {},
     "output_type": "execute_result"
    }
   ],
   "source": [
    "# Normalizamos los nombres de columnas\n",
    "df.columns = df.columns.str.lower().str.replace(' ', '_')\n",
    "\n",
    "#Normalizamos los elementos del df tipo object\n",
    "string = list(df.columns[df.dtypes == 'object'])\n",
    "for col in string:\n",
    "    df[col] = df[col].str.lower().str.replace(' ', '_')\n",
    "df.head(\n",
    ")\n"
   ]
  },
  {
   "cell_type": "code",
   "execution_count": 205,
   "id": "f05fe28c",
   "metadata": {},
   "outputs": [
    {
     "name": "stdout",
     "output_type": "stream",
     "text": [
      "COLUMNA:  laptop\n",
      "VAL UNICAS:  ['asus_expertbook_b1_b1502cba-ej0436x_intel_core_i5-1235u/8gb/512gb_ssd/15.6\"'\n",
      " 'alurin_go_start_intel_celeron_n4020/8gb/256gb_ssd/15.6\"'\n",
      " 'asus_expertbook_b1_b1502cba-ej0424x_intel_core_i3-1215u/8gb/256gb_ssd/15.6\"'\n",
      " 'msi_katana_gf66_12uc-082xes_intel_core_i7-12700h/16gb/1tb_ssd/rtx3050/15.6\"'\n",
      " 'hp_15s-fq5085ns_intel_core_i5-1235u/16gb/512gb_ssd/15.6\"']\n",
      "NRO UNICOS:  2160\n",
      "NRO NULOS:  0\n",
      "\n",
      "COLUMNA:  status\n",
      "VAL UNICAS:  ['new' 'refurbished']\n",
      "NRO UNICOS:  2\n",
      "NRO NULOS:  0\n",
      "\n",
      "COLUMNA:  brand\n",
      "VAL UNICAS:  ['asus' 'alurin' 'msi' 'hp' 'lenovo']\n",
      "NRO UNICOS:  27\n",
      "NRO NULOS:  0\n",
      "\n",
      "COLUMNA:  model\n",
      "VAL UNICAS:  ['expertbook' 'go' 'katana' '15s' 'crosshair']\n",
      "NRO UNICOS:  121\n",
      "NRO NULOS:  0\n",
      "\n",
      "COLUMNA:  cpu\n",
      "VAL UNICAS:  ['intel_core_i5' 'intel_celeron' 'intel_core_i3' 'intel_core_i7'\n",
      " 'amd_ryzen_5']\n",
      "NRO UNICOS:  28\n",
      "NRO NULOS:  0\n",
      "\n",
      "COLUMNA:  ram\n",
      "VAL UNICAS:  [ 8 16 32 12  4]\n",
      "NRO UNICOS:  9\n",
      "NRO NULOS:  0\n",
      "\n",
      "COLUMNA:  storage\n",
      "VAL UNICAS:  [ 512  256 1000   64  128]\n",
      "NRO UNICOS:  12\n",
      "NRO NULOS:  0\n",
      "\n",
      "COLUMNA:  storage_type\n",
      "VAL UNICAS:  ['ssd' 'emmc' nan]\n",
      "NRO UNICOS:  2\n",
      "NRO NULOS:  42\n",
      "\n",
      "COLUMNA:  gpu\n",
      "VAL UNICAS:  [nan 'rtx_3050' 'rtx_4060' 'rtx_4050' 'rtx_3060']\n",
      "NRO UNICOS:  44\n",
      "NRO NULOS:  1371\n",
      "\n",
      "COLUMNA:  screen\n",
      "VAL UNICAS:  [15.6 17.3 14.  16.1 13.3]\n",
      "NRO UNICOS:  29\n",
      "NRO NULOS:  4\n",
      "\n",
      "COLUMNA:  touch\n",
      "VAL UNICAS:  ['no' 'yes']\n",
      "NRO UNICOS:  2\n",
      "NRO NULOS:  0\n",
      "\n",
      "COLUMNA:  final_price\n",
      "VAL UNICAS:  [1009.    299.    789.   1199.    669.01]\n",
      "NRO UNICOS:  1440\n",
      "NRO NULOS:  0\n",
      "\n"
     ]
    }
   ],
   "source": [
    "df.columns\n",
    "for col in df.columns:\n",
    "    print('COLUMNA: ', col)\n",
    "    print('VAL UNICAS: ', df[col].unique()[:5])\n",
    "    print('NRO UNICOS: ',df[col].nunique())\n",
    "    print('NRO NULOS: ',df[col].isnull().sum())\n",
    "    print()"
   ]
  },
  {
   "cell_type": "code",
   "execution_count": 206,
   "id": "fa43bf99",
   "metadata": {},
   "outputs": [
    {
     "name": "stdout",
     "output_type": "stream",
     "text": [
      "storage_type :  42\n",
      "gpu :  1371\n",
      "screen :  4\n"
     ]
    }
   ],
   "source": [
    "# Datos perdidos (nulos)\n",
    "col_nulos= list(df.columns[df.isnull().sum() > 0])\n",
    "col_nulos\n",
    "for col in col_nulos:\n",
    "    print (col,': ', df[col].isnull().sum())"
   ]
  },
  {
   "cell_type": "code",
   "execution_count": 207,
   "id": "098d1906",
   "metadata": {},
   "outputs": [
    {
     "data": {
      "text/plain": [
       "np.float64(16.0)"
      ]
     },
     "execution_count": 207,
     "metadata": {},
     "output_type": "execute_result"
    }
   ],
   "source": [
    "median_ram  = df.ram.median()\n",
    "median_ram"
   ]
  },
  {
   "cell_type": "code",
   "execution_count": 208,
   "id": "e6c4b67e",
   "metadata": {},
   "outputs": [
    {
     "data": {
      "text/plain": [
       "<Axes: xlabel='final_price', ylabel='Count'>"
      ]
     },
     "execution_count": 208,
     "metadata": {},
     "output_type": "execute_result"
    },
    {
     "data": {
      "image/png": "[encoded data removed]",
      "text/plain": [
       "<Figure size 640x480 with 1 Axes>"
      ]
     },
     "metadata": {},
     "output_type": "display_data"
    }
   ],
   "source": [
    "sns.histplot(df.final_price[df.final_price <= 6000], bins=25)   \n"
   ]
  },
  {
   "cell_type": "code",
   "execution_count": 209,
   "id": "244b0622",
   "metadata": {},
   "outputs": [
    {
     "data": {
      "text/plain": [
       "<Axes: xlabel='final_price', ylabel='Count'>"
      ]
     },
     "execution_count": 209,
     "metadata": {},
     "output_type": "execute_result"
    },
    {
     "data": {
      "image/png": "[encoded data removed]",
      "text/plain": [
       "<Figure size 640x480 with 1 Axes>"
      ]
     },
     "metadata": {},
     "output_type": "display_data"
    }
   ],
   "source": [
    "final_price_log = np.log1p(df.final_price)\n",
    "sns.histplot(final_price_log[df.final_price <= 6000], bins=25)   "
   ]
  },
  {
   "cell_type": "code",
   "execution_count": 210,
   "id": "9b272153",
   "metadata": {},
   "outputs": [],
   "source": [
    "columns = [\n",
    "    'ram', \n",
    "    'storage',\n",
    "    'screen',\n",
    "    'final_price'\n",
    "]\n",
    "\n",
    "df = df[columns]"
   ]
  },
  {
   "cell_type": "code",
   "execution_count": 211,
   "id": "1f5e9684",
   "metadata": {},
   "outputs": [],
   "source": [
    "# Particion DF \n",
    "n = len(df)\n",
    "n_train = int(n * 0.6)\n",
    "n_val = int(n * 0.2)\n",
    "n_test = int(n * 0.2)\n",
    "\n",
    "idx = np.arange(n) # crea un vector con numerso hasta n-1\n",
    "np.random.seed(42)\n",
    "np.random.shuffle(idx)\n",
    "\n",
    "df_train = df.iloc[idx[:n_train]]\n",
    "df_val = df.iloc[idx[n_train:n_train + n_val]]\n",
    "df_test = df.iloc[idx[n_train+n_val:]]\n",
    "\n",
    "df_train = df_train.reset_index(drop = True)\n",
    "df_val = df_val.reset_index(drop = True)\n",
    "df_test = df_test.reset_index(drop = True)\n",
    "\n"
   ]
  },
  {
   "cell_type": "code",
   "execution_count": 212,
   "id": "c9457b38",
   "metadata": {},
   "outputs": [],
   "source": [
    "# Vector Y\n",
    "y_train  = df_train.final_price.values\n",
    "y_val = df_val.final_price.values\n",
    "y_test  = df_test.final_price.values\n",
    "\n",
    "del df_train['final_price']\n",
    "del df_val['final_price']\n",
    "del df_test['final_price']\n"
   ]
  },
  {
   "cell_type": "code",
   "execution_count": 213,
   "id": "068dcbc1",
   "metadata": {},
   "outputs": [],
   "source": [
    "# Pesos w0 y w\n",
    "def train_linear_regression(X,y):\n",
    "    ones = np.ones(X.shape[0])\n",
    "    X = np.column_stack([ones,X])\n",
    "\n",
    "    XTX = X.T.dot(X)\n",
    "    XTX_INV = np.linalg.inv(XTX )\n",
    "    w_full = XTX_INV.dot(X.T).dot(y)\n",
    "    return w_full[0], w_full[1:] # Nos devuelve una tupla con el primer numero w0 y el resto en un array\n",
    "\n"
   ]
  },
  {
   "cell_type": "code",
   "execution_count": 214,
   "id": "05c60996",
   "metadata": {},
   "outputs": [],
   "source": [
    "# Armamos la matriz X\n",
    "base = ['ram', 'storage', 'screen']\n",
    "\n",
    "def prepare_X(df,fillna):\n",
    "    df = df.copy()\n",
    "\n",
    "    df_num = df[base]\n",
    "    df_num = df_num.fillna(fillna)\n",
    "    X = df_num.values\n",
    "    return X\n",
    "\n"
   ]
  },
  {
   "cell_type": "code",
   "execution_count": 215,
   "id": "cdb1ee09",
   "metadata": {},
   "outputs": [],
   "source": [
    "# Funcion RMSE\n",
    "def rmse(y, y_pred):\n",
    "    se = ( y_pred - y) ** 2 # elevamos al cuadrado las diferencias\n",
    "    mse = se.mean() # promedio (suma divido la cantidad m)\n",
    "    return np.sqrt(mse) # raiz cuadrada"
   ]
  },
  {
   "cell_type": "code",
   "execution_count": 216,
   "id": "41d29086",
   "metadata": {},
   "outputs": [
    {
     "data": {
      "text/plain": [
       "np.float64(600.2650313748483)"
      ]
     },
     "execution_count": 216,
     "metadata": {},
     "output_type": "execute_result"
    }
   ],
   "source": [
    "#Valores nulos screen por mean\n",
    "mean = df_train.screen.mean()\n",
    "\n",
    "X_train = prepare_X (df_train,fillna= mean)\n",
    "w0, w = train_linear_regression(X_train, y_train)\n",
    "\n",
    "X_val = prepare_X (df_val,fillna=mean)\n",
    "y_pred = w0 + X_val.dot(w)\n",
    "\n",
    "rmse(y_val, y_pred)"
   ]
  },
  {
   "cell_type": "code",
   "execution_count": 217,
   "id": "a9377a14",
   "metadata": {},
   "outputs": [
    {
     "data": {
      "text/plain": [
       "np.float64(597.363559361963)"
      ]
     },
     "execution_count": 217,
     "metadata": {},
     "output_type": "execute_result"
    }
   ],
   "source": [
    "#Valores nulos screen por 0\n",
    "X_train = prepare_X (df_train,fillna = 0)\n",
    "w0, w = train_linear_regression(X_train, y_train)\n",
    "\n",
    "X_val = prepare_X (df_val, fillna = 0)\n",
    "y_pred = w0 + X_val.dot(w)\n",
    "\n",
    "rmse(y_val, y_pred)"
   ]
  },
  {
   "cell_type": "code",
   "execution_count": 218,
   "id": "13b887f7",
   "metadata": {},
   "outputs": [],
   "source": [
    "# REGULARIZACION con fillna 0 screen\n",
    "def train_linear_regression_reg(X,y,r):\n",
    "    ones = np.ones(X.shape[0])\n",
    "    X = np.column_stack([ones,X])\n",
    "\n",
    "    XTX = X.T.dot(X)\n",
    "    XTX = XTX + r *np.eye(XTX.shape[0])\n",
    "\n",
    "    XTX_INV = np.linalg.inv(XTX )\n",
    "    w_full = XTX_INV.dot(X.T).dot(y)\n",
    "    return w_full[0], w_full[1:] "
   ]
  },
  {
   "cell_type": "code",
   "execution_count": 219,
   "id": "0f3358a1",
   "metadata": {},
   "outputs": [
    {
     "name": "stdout",
     "output_type": "stream",
     "text": [
      "r: 0   score: 597.3636\n",
      "r: 0.01   score: 597.3617\n",
      "r: 0.1   score: 597.3452\n",
      "r: 1   score: 597.2121\n",
      "r: 5   score: 597.0111\n",
      "r: 10   score: 597.0588\n",
      "r: 100   score: 597.9033\n"
     ]
    }
   ],
   "source": [
    "for r in [0, 0.01, 0.1, 1, 5, 10, 100]:\n",
    "    X_train = prepare_X (df_train,fillna=0)\n",
    "    w0, w = train_linear_regression_reg(X_train, y_train,r)\n",
    "\n",
    "    X_val = prepare_X (df_val, fillna=0)\n",
    "    y_pred = w0 + X_val.dot(w)\n",
    "\n",
    "    score = rmse(y_val, y_pred)\n",
    "\n",
    "    print('r:',r,' ','score:', round(score,4))"
   ]
  },
  {
   "cell_type": "code",
   "execution_count": 220,
   "id": "47ec9597",
   "metadata": {},
   "outputs": [
    {
     "name": "stdout",
     "output_type": "stream",
     "text": [
      "0 565.4520868770992\n",
      "1 636.7985423056716\n",
      "2 588.9558697907979\n",
      "3 597.8148920012542\n",
      "4 571.9627915111046\n",
      "5 573.2383256618959\n",
      "6 647.3438328407311\n",
      "7 550.4398184485875\n",
      "8 587.333503616987\n",
      "9 576.1017929433077\n"
     ]
    },
    {
     "data": {
      "text/plain": [
       "np.float64(29.176491258295968)"
      ]
     },
     "execution_count": 220,
     "metadata": {},
     "output_type": "execute_result"
    }
   ],
   "source": [
    "#Q5 For para ver los resultados de las distitnas seed y calcular desviacion standart\n",
    "seed_scores= []\n",
    "for s in [0,1,2,3,4,5,6,7,8,9]:\n",
    "    n = len(df)\n",
    "\n",
    "    n_val = int(n * 0.2)\n",
    "    n_test = int(n * 0.2)\n",
    "    n_train = n - (n_val+n_test)\n",
    "\n",
    "    idx = np.arange(n) # crea un vector con numerso hasta n-1\n",
    "\n",
    "    np.random.seed(s)\n",
    "    np.random.shuffle(idx)\n",
    "\n",
    "    df_train = df.iloc[idx[:n_train]]\n",
    "    df_val = df.iloc[idx[n_train:n_train + n_val]]\n",
    "    df_test = df.iloc[idx[n_train+n_val:]]\n",
    "\n",
    "    df_train = df_train.reset_index(drop = True)\n",
    "    df_val = df_val.reset_index(drop = True)\n",
    "    df_test = df_test.reset_index(drop = True)\n",
    "    y_train  = df_train.final_price.values\n",
    "    y_val = df_val.final_price.values\n",
    "    y_test  = df_test.final_price.values\n",
    "\n",
    "    del df_train['final_price']\n",
    "    del df_val['final_price']\n",
    "    del df_test['final_price']\n",
    "\n",
    "\n",
    "\n",
    "    X_train = prepare_X (df_train,fillna=0)\n",
    "    w0, w = train_linear_regression(X_train, y_train)\n",
    "\n",
    "    X_val = prepare_X (df_val,fillna=0)\n",
    "    y_pred = w0 + X_val.dot(w)\n",
    "\n",
    "    score = rmse(y_val, y_pred)\n",
    "    seed_scores.append(score)\n",
    "    print(s, score)\n",
    "\n",
    "np.std(seed_scores)\n"
   ]
  },
  {
   "cell_type": "code",
   "execution_count": 221,
   "id": "e0b0ba2f",
   "metadata": {},
   "outputs": [
    {
     "data": {
      "text/plain": [
       "np.float64(608.6102791248103)"
      ]
     },
     "execution_count": 221,
     "metadata": {},
     "output_type": "execute_result"
    }
   ],
   "source": [
    "# Q6 Concatenamos DF TRAIN Y VAL y lo probamos contra Test. Seed 9\n",
    "n = len(df)\n",
    "\n",
    "n_val = int(n * 0.2)\n",
    "n_test = int(n * 0.2)\n",
    "n_train = n - (n_val+n_test)\n",
    "\n",
    "idx = np.arange(n) # crea un vector con numerso hasta n-1\n",
    "\n",
    "np.random.seed(9)\n",
    "np.random.shuffle(idx)\n",
    "\n",
    "df_train = df.iloc[idx[:n_train]]\n",
    "df_val = df.iloc[idx[n_train:n_train + n_val]]\n",
    "df_test = df.iloc[idx[n_train+n_val:]]\n",
    "\n",
    "df_train = df_train.reset_index(drop = True)\n",
    "df_val = df_val.reset_index(drop = True) \n",
    "df_test = df_test.reset_index(drop = True)\n",
    "y_train  = df_train.final_price.values\n",
    "y_val = df_val.final_price.values\n",
    "y_test  = df_test.final_price.values\n",
    "\n",
    "del df_train['final_price']\n",
    "del df_val['final_price']\n",
    "del df_test['final_price']\n",
    "\n",
    "\n",
    "\n",
    "df_full_train = pd.concat([df_train,df_val])\n",
    "df_full_train = df_full_train.reset_index(drop = True)\n",
    "\n",
    "y_full_train = np.concatenate([y_train, y_val])\n",
    "\n",
    "X_full_train = prepare_X(df_full_train,fillna=0)\n",
    "w0, w = train_linear_regression(X_full_train, y_full_train)\n",
    "X_test = prepare_X(df_test,fillna=0)\n",
    "y_pred = w0 + X_test.dot(w)\n",
    "\n",
    "rmse(y_test,y_pred)\n"
   ]
  }
 ],
 "metadata": {
  "kernelspec": {
   "display_name": "Python 3",
   "language": "python",
   "name": "python3"
  },
  "language_info": {
   "codemirror_mode": {
    "name": "ipython",
    "version": 3
   },
   "file_extension": ".py",
   "mimetype": "text/x-python",
   "name": "python",
   "nbconvert_exporter": "python",
   "pygments_lexer": "ipython3",
   "version": "3.13.1"
  }
 },
 "nbformat": 4,
 "nbformat_minor": 5
}
